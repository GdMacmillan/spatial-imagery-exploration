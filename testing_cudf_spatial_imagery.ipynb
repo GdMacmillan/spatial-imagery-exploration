{
 "cells": [
  {
   "cell_type": "markdown",
   "metadata": {},
   "source": [
    "# 3d Point Cloud GPU based loading and Manipulation with Nvidia Rapids\n",
    "\n",
    "## Section 1 - Downloading Image\n",
    "<br>"
   ]
  },
  {
   "cell_type": "code",
   "execution_count": 5,
   "metadata": {},
   "outputs": [],
   "source": [
    "# create home for data to live\n",
    "DATA_DIR=\"/home/jovyan/data/\""
   ]
  },
  {
   "cell_type": "code",
   "execution_count": 6,
   "metadata": {},
   "outputs": [],
   "source": [
    "%%sh -s \"$DATA_DIR\"\n",
    "\n",
    "[ ! -d \"$1\" ] && mkdir -p \"$1\""
   ]
  },
  {
   "cell_type": "code",
   "execution_count": 7,
   "metadata": {},
   "outputs": [],
   "source": [
    "import urllib.request\n",
    "import shutil\n",
    "import py7zr\n",
    "import os\n",
    "import glob\n",
    "\n",
    "# Download the test file and save it locally under data directory if not already saved\n",
    "file_name = DATA_DIR + 'bildstein_station1.7z'\n",
    "url = 'http://semantic3d.net/data/point-clouds/training1/bildstein_station1_xyz_intensity_rgb.7z'\n",
    "if not os.path.exists(file_name[:-3]):\n",
    "    with urllib.request.urlopen(url) as response, open(file_name, 'wb') as out_file:\n",
    "        shutil.copyfileobj(response, out_file)\n",
    "\n",
    "    with py7zr.SevenZipFile(file_name, mode='r') as z:\n",
    "        z.extractall(path=file_name[:-3])"
   ]
  },
  {
   "cell_type": "code",
   "execution_count": 8,
   "metadata": {},
   "outputs": [
    {
     "name": "stdout",
     "output_type": "stream",
     "text": [
      "/home/jovyan/data/bildstein_station1/bildstein_station1_xyz_intensity_rgb.txt\n"
     ]
    }
   ],
   "source": [
    "for file in glob.glob(file_name[:-3] + \"/\" + \"*.txt\"):\n",
    "    print(file)"
   ]
  },
  {
   "cell_type": "code",
   "execution_count": 9,
   "metadata": {},
   "outputs": [
    {
     "name": "stdout",
     "output_type": "stream",
     "text": [
      "x, y, z, intensity, r, g, b\n",
      "----------------------------------------\n",
      "20.623, 40.276, -1.999, -1031, 127, 141, 154\n"
     ]
    }
   ],
   "source": [
    "# open first line and see what we have\n",
    "with open(file) as f:\n",
    "    first_line = f.readline()\n",
    "    names = \"x, y, z, intensity, r, g, b\"\n",
    "    print(names)\n",
    "    print(\"-\" * 40)\n",
    "    print(\", \".join([ls for ls in first_line.split()]))\n",
    "    names = names.split(', ')"
   ]
  },
  {
   "cell_type": "markdown",
   "metadata": {},
   "source": [
    "## Section 2 - Cudf for Fast Data Loading\n",
    "<br>"
   ]
  },
  {
   "cell_type": "code",
   "execution_count": 10,
   "metadata": {},
   "outputs": [],
   "source": [
    "import cudf\n",
    "import cuspatial\n",
    "import time\n",
    "\n",
    "from urllib.request import urlopen"
   ]
  },
  {
   "cell_type": "code",
   "execution_count": 11,
   "metadata": {},
   "outputs": [
    {
     "name": "stdout",
     "output_type": "stream",
     "text": [
      "start vs stop time:  0.48637866973876953  s\n"
     ]
    }
   ],
   "source": [
    "t0 = time.time()\n",
    "df = cudf.io.csv.read_csv(file, delim_whitespace=True, names=names)\n",
    "t1 = time.time()\n",
    "print(\"start vs stop time: \", t1 - t0, \" s\")"
   ]
  },
  {
   "cell_type": "code",
   "execution_count": 12,
   "metadata": {},
   "outputs": [
    {
     "data": {
      "text/html": [
       "<div>\n",
       "<style scoped>\n",
       "    .dataframe tbody tr th:only-of-type {\n",
       "        vertical-align: middle;\n",
       "    }\n",
       "\n",
       "    .dataframe tbody tr th {\n",
       "        vertical-align: top;\n",
       "    }\n",
       "\n",
       "    .dataframe thead th {\n",
       "        text-align: right;\n",
       "    }\n",
       "</style>\n",
       "<table border=\"1\" class=\"dataframe\">\n",
       "  <thead>\n",
       "    <tr style=\"text-align: right;\">\n",
       "      <th></th>\n",
       "      <th>x</th>\n",
       "      <th>y</th>\n",
       "      <th>z</th>\n",
       "      <th>intensity</th>\n",
       "      <th>r</th>\n",
       "      <th>g</th>\n",
       "      <th>b</th>\n",
       "    </tr>\n",
       "  </thead>\n",
       "  <tbody>\n",
       "    <tr>\n",
       "      <th>0</th>\n",
       "      <td>20.623</td>\n",
       "      <td>40.276</td>\n",
       "      <td>-1.999</td>\n",
       "      <td>-1031</td>\n",
       "      <td>127</td>\n",
       "      <td>141</td>\n",
       "      <td>154</td>\n",
       "    </tr>\n",
       "    <tr>\n",
       "      <th>1</th>\n",
       "      <td>20.362</td>\n",
       "      <td>40.375</td>\n",
       "      <td>-2.239</td>\n",
       "      <td>-941</td>\n",
       "      <td>130</td>\n",
       "      <td>141</td>\n",
       "      <td>159</td>\n",
       "    </tr>\n",
       "    <tr>\n",
       "      <th>2</th>\n",
       "      <td>20.360</td>\n",
       "      <td>40.376</td>\n",
       "      <td>-2.402</td>\n",
       "      <td>-1083</td>\n",
       "      <td>139</td>\n",
       "      <td>151</td>\n",
       "      <td>165</td>\n",
       "    </tr>\n",
       "    <tr>\n",
       "      <th>3</th>\n",
       "      <td>20.374</td>\n",
       "      <td>40.367</td>\n",
       "      <td>-2.405</td>\n",
       "      <td>-1122</td>\n",
       "      <td>131</td>\n",
       "      <td>147</td>\n",
       "      <td>163</td>\n",
       "    </tr>\n",
       "    <tr>\n",
       "      <th>4</th>\n",
       "      <td>20.372</td>\n",
       "      <td>40.366</td>\n",
       "      <td>-2.405</td>\n",
       "      <td>-1165</td>\n",
       "      <td>132</td>\n",
       "      <td>145</td>\n",
       "      <td>161</td>\n",
       "    </tr>\n",
       "  </tbody>\n",
       "</table>\n",
       "</div>"
      ],
      "text/plain": [
       "        x       y      z  intensity    r    g    b\n",
       "0  20.623  40.276 -1.999      -1031  127  141  154\n",
       "1  20.362  40.375 -2.239       -941  130  141  159\n",
       "2  20.360  40.376 -2.402      -1083  139  151  165\n",
       "3  20.374  40.367 -2.405      -1122  131  147  163\n",
       "4  20.372  40.366 -2.405      -1165  132  145  161"
      ]
     },
     "metadata": {},
     "output_type": "display_data"
    },
    {
     "name": "stdout",
     "output_type": "stream",
     "text": [
      "(29697591, 7)\n"
     ]
    }
   ],
   "source": [
    "display(df.head()); print(df.shape)"
   ]
  },
  {
   "cell_type": "code",
   "execution_count": 13,
   "metadata": {},
   "outputs": [
    {
     "name": "stdout",
     "output_type": "stream",
     "text": [
      "1663.065096  Mb\n"
     ]
    }
   ],
   "source": [
    "print(df.memory_usage(deep=True).sum() / 10**6, \" Mb\")"
   ]
  },
  {
   "cell_type": "code",
   "execution_count": 10,
   "metadata": {},
   "outputs": [
    {
     "data": {
      "text/html": [
       "<div>\n",
       "<style scoped>\n",
       "    .dataframe tbody tr th:only-of-type {\n",
       "        vertical-align: middle;\n",
       "    }\n",
       "\n",
       "    .dataframe tbody tr th {\n",
       "        vertical-align: top;\n",
       "    }\n",
       "\n",
       "    .dataframe thead th {\n",
       "        text-align: right;\n",
       "    }\n",
       "</style>\n",
       "<table border=\"1\" class=\"dataframe\">\n",
       "  <thead>\n",
       "    <tr style=\"text-align: right;\">\n",
       "      <th></th>\n",
       "      <th>x</th>\n",
       "      <th>y</th>\n",
       "      <th>z</th>\n",
       "      <th>intensity</th>\n",
       "      <th>r</th>\n",
       "      <th>g</th>\n",
       "      <th>b</th>\n",
       "    </tr>\n",
       "  </thead>\n",
       "  <tbody>\n",
       "    <tr>\n",
       "      <th>count</th>\n",
       "      <td>2.969759e+07</td>\n",
       "      <td>2.969759e+07</td>\n",
       "      <td>2.969759e+07</td>\n",
       "      <td>2.969759e+07</td>\n",
       "      <td>2.969759e+07</td>\n",
       "      <td>2.969759e+07</td>\n",
       "      <td>2.969759e+07</td>\n",
       "    </tr>\n",
       "    <tr>\n",
       "      <th>mean</th>\n",
       "      <td>1.354600e+00</td>\n",
       "      <td>1.754048e+00</td>\n",
       "      <td>-4.769280e-01</td>\n",
       "      <td>-1.112637e+03</td>\n",
       "      <td>1.021257e+02</td>\n",
       "      <td>1.036519e+02</td>\n",
       "      <td>1.019477e+02</td>\n",
       "    </tr>\n",
       "    <tr>\n",
       "      <th>std</th>\n",
       "      <td>1.078662e+01</td>\n",
       "      <td>1.071130e+01</td>\n",
       "      <td>3.127362e+00</td>\n",
       "      <td>3.870843e+02</td>\n",
       "      <td>4.395839e+01</td>\n",
       "      <td>4.581980e+01</td>\n",
       "      <td>4.705387e+01</td>\n",
       "    </tr>\n",
       "    <tr>\n",
       "      <th>min</th>\n",
       "      <td>-1.047000e+02</td>\n",
       "      <td>-1.335270e+02</td>\n",
       "      <td>-1.710900e+01</td>\n",
       "      <td>-1.766000e+03</td>\n",
       "      <td>0.000000e+00</td>\n",
       "      <td>0.000000e+00</td>\n",
       "      <td>0.000000e+00</td>\n",
       "    </tr>\n",
       "    <tr>\n",
       "      <th>25%</th>\n",
       "      <td>-1.785000e+00</td>\n",
       "      <td>-2.034000e+00</td>\n",
       "      <td>-1.855000e+00</td>\n",
       "      <td>-1.365000e+03</td>\n",
       "      <td>7.200000e+01</td>\n",
       "      <td>7.100000e+01</td>\n",
       "      <td>7.000000e+01</td>\n",
       "    </tr>\n",
       "    <tr>\n",
       "      <th>50%</th>\n",
       "      <td>2.390000e-01</td>\n",
       "      <td>-6.350000e-01</td>\n",
       "      <td>-1.401000e+00</td>\n",
       "      <td>-1.199000e+03</td>\n",
       "      <td>1.040000e+02</td>\n",
       "      <td>1.050000e+02</td>\n",
       "      <td>9.800000e+01</td>\n",
       "    </tr>\n",
       "    <tr>\n",
       "      <th>75%</th>\n",
       "      <td>2.773000e+00</td>\n",
       "      <td>3.338000e+00</td>\n",
       "      <td>4.640000e-01</td>\n",
       "      <td>-1.062000e+03</td>\n",
       "      <td>1.290000e+02</td>\n",
       "      <td>1.310000e+02</td>\n",
       "      <td>1.280000e+02</td>\n",
       "    </tr>\n",
       "    <tr>\n",
       "      <th>max</th>\n",
       "      <td>1.205780e+02</td>\n",
       "      <td>1.128580e+02</td>\n",
       "      <td>4.737200e+01</td>\n",
       "      <td>2.043000e+03</td>\n",
       "      <td>2.550000e+02</td>\n",
       "      <td>2.550000e+02</td>\n",
       "      <td>2.550000e+02</td>\n",
       "    </tr>\n",
       "  </tbody>\n",
       "</table>\n",
       "</div>"
      ],
      "text/plain": [
       "                  x             y             z     intensity             r  \\\n",
       "count  2.969759e+07  2.969759e+07  2.969759e+07  2.969759e+07  2.969759e+07   \n",
       "mean   1.354600e+00  1.754048e+00 -4.769280e-01 -1.112637e+03  1.021257e+02   \n",
       "std    1.078662e+01  1.071130e+01  3.127362e+00  3.870843e+02  4.395839e+01   \n",
       "min   -1.047000e+02 -1.335270e+02 -1.710900e+01 -1.766000e+03  0.000000e+00   \n",
       "25%   -1.785000e+00 -2.034000e+00 -1.855000e+00 -1.365000e+03  7.200000e+01   \n",
       "50%    2.390000e-01 -6.350000e-01 -1.401000e+00 -1.199000e+03  1.040000e+02   \n",
       "75%    2.773000e+00  3.338000e+00  4.640000e-01 -1.062000e+03  1.290000e+02   \n",
       "max    1.205780e+02  1.128580e+02  4.737200e+01  2.043000e+03  2.550000e+02   \n",
       "\n",
       "                  g             b  \n",
       "count  2.969759e+07  2.969759e+07  \n",
       "mean   1.036519e+02  1.019477e+02  \n",
       "std    4.581980e+01  4.705387e+01  \n",
       "min    0.000000e+00  0.000000e+00  \n",
       "25%    7.100000e+01  7.000000e+01  \n",
       "50%    1.050000e+02  9.800000e+01  \n",
       "75%    1.310000e+02  1.280000e+02  \n",
       "max    2.550000e+02  2.550000e+02  "
      ]
     },
     "execution_count": 10,
     "metadata": {},
     "output_type": "execute_result"
    }
   ],
   "source": [
    "df.describe()"
   ]
  },
  {
   "cell_type": "code",
   "execution_count": 11,
   "metadata": {},
   "outputs": [
    {
     "name": "stdout",
     "output_type": "stream",
     "text": [
      "<class 'cudf.core.dataframe.DataFrame'>\n",
      "RangeIndex: 29697591 entries, 0 to 29697590\n",
      "Data columns (total 7 columns):\n",
      " #   Column     Dtype\n",
      "---  ------     -----\n",
      " 0   x          float64\n",
      " 1   y          float64\n",
      " 2   z          float64\n",
      " 3   intensity  int64\n",
      " 4   r          int64\n",
      " 5   g          int64\n",
      " 6   b          int64\n",
      "dtypes: float64(3), int64(4)\n",
      "memory usage: 1.5 GB\n"
     ]
    }
   ],
   "source": [
    "df.info()"
   ]
  },
  {
   "cell_type": "markdown",
   "metadata": {},
   "source": [
    "## Section 3 - Basic Plotting\n",
    "<br>"
   ]
  },
  {
   "cell_type": "code",
   "execution_count": 12,
   "metadata": {},
   "outputs": [],
   "source": [
    "import math\n",
    "import numpy as np\n",
    "import matplotlib.pyplot as plt\n",
    "import matplotlib.patches as patches\n",
    "\n",
    "%matplotlib inline"
   ]
  },
  {
   "cell_type": "code",
   "execution_count": 13,
   "metadata": {},
   "outputs": [
    {
     "data": {
      "image/png": "[encoded data removed]",
      "text/plain": [
       "<Figure size 432x288 with 1 Axes>"
      ]
     },
     "metadata": {
      "needs_background": "light"
     },
     "output_type": "display_data"
    }
   ],
   "source": [
    "## calculate extents\n",
    "eps = 1e-6\n",
    "max_x = df['x'].max() + eps\n",
    "min_x = df['x'].min() - eps\n",
    "max_y = df['y'].max() + eps\n",
    "min_y = df['y'].min() - eps\n",
    "\n",
    "fig = plt.figure()\n",
    "ax = fig.add_subplot(111)\n",
    "w, h = max_x - min_x, max_y - min_y\n",
    "\n",
    "# splits rectangle into squares and creates an array of those squares\n",
    "sq_size = 50 # m sides\n",
    "n_x = math.ceil(math.ceil((w) / sq_size) / 2.0) + 1\n",
    "n_y = math.ceil(math.ceil((h) / sq_size) / 2.0) + 1\n",
    "xs = np.arange(-n_x * sq_size, (n_x + 1) * sq_size, sq_size)\n",
    "ys = np.arange(-n_y * sq_size, (n_y + 1) * sq_size, sq_size)\n",
    "ax.set_xticks(xs)\n",
    "ax.set_yticks(ys)\n",
    "plt.grid()\n",
    "\n",
    "# plot a sample of the points\n",
    "tmp = df.sample(1000000)\n",
    "plt.scatter(tmp['x'].to_array(), tmp['y'].to_array(), .2)\n",
    "ax.set_xlim(min_x - 0.2 * w, max_x + 0.2 * w)\n",
    "ax.set_ylim(min_y - 0.2 * h, max_y + 0.2 * h)\n",
    "ax.set_aspect(1)"
   ]
  },
  {
   "cell_type": "markdown",
   "metadata": {},
   "source": [
    "## Section 4 - DF manipulation\n",
    "<br>\n",
    "Let's say we wanted to break out the original dataframe into multiple dataframes representing 50 x 50 (h x w) vertical square columns containing points? We can create a list of bounding boxes based on the grid drawn above. To do this convert the x/y tick arrays to tuples of the form:\n",
    "\n",
    "(x_min, x_max, y_min, y_max)"
   ]
  },
  {
   "cell_type": "code",
   "execution_count": 14,
   "metadata": {},
   "outputs": [],
   "source": [
    "bboxes = \\\n",
    "    [tuple(xs[i:i+2].astype(float)) + tuple(ys[j:j+2].astype(float)) for i in range(xs.size - 1) for j in range(ys.size - 1)]"
   ]
  },
  {
   "cell_type": "code",
   "execution_count": 15,
   "metadata": {},
   "outputs": [
    {
     "data": {
      "text/plain": [
       "(-200.0, -150.0, -200.0, -150.0)"
      ]
     },
     "execution_count": 15,
     "metadata": {},
     "output_type": "execute_result"
    }
   ],
   "source": [
    "bboxes[0]"
   ]
  },
  {
   "cell_type": "markdown",
   "metadata": {},
   "source": [
    "Nvidia rapid's CuSpatial library provides a function to collect the points in a spatial window, providing a fast look-up for x,y coordinates based on a bounding box"
   ]
  },
  {
   "cell_type": "code",
   "execution_count": 16,
   "metadata": {},
   "outputs": [],
   "source": [
    "dfs = [cuspatial.points_in_spatial_window(*bbox, df['x'], df['y']) for bbox in bboxes]"
   ]
  },
  {
   "cell_type": "code",
   "execution_count": 18,
   "metadata": {},
   "outputs": [
    {
     "data": {
      "text/html": [
       "<div>\n",
       "<style scoped>\n",
       "    .dataframe tbody tr th:only-of-type {\n",
       "        vertical-align: middle;\n",
       "    }\n",
       "\n",
       "    .dataframe tbody tr th {\n",
       "        vertical-align: top;\n",
       "    }\n",
       "\n",
       "    .dataframe thead th {\n",
       "        text-align: right;\n",
       "    }\n",
       "</style>\n",
       "<table border=\"1\" class=\"dataframe\">\n",
       "  <thead>\n",
       "    <tr style=\"text-align: right;\">\n",
       "      <th></th>\n",
       "      <th>x</th>\n",
       "      <th>y</th>\n",
       "    </tr>\n",
       "  </thead>\n",
       "  <tbody>\n",
       "    <tr>\n",
       "      <th>0</th>\n",
       "      <td>-78.426</td>\n",
       "      <td>58.820</td>\n",
       "    </tr>\n",
       "    <tr>\n",
       "      <th>1</th>\n",
       "      <td>-79.537</td>\n",
       "      <td>58.785</td>\n",
       "    </tr>\n",
       "  </tbody>\n",
       "</table>\n",
       "</div>"
      ],
      "text/plain": [
       "        x       y\n",
       "0 -78.426  58.820\n",
       "1 -79.537  58.785"
      ]
     },
     "execution_count": 18,
     "metadata": {},
     "output_type": "execute_result"
    }
   ],
   "source": [
    "dfs[21].head()"
   ]
  },
  {
   "cell_type": "markdown",
   "metadata": {},
   "source": [
    "This works but some dataframes are empty and all only contain x, y coordinates and no mapping back to the original df record. First, get a count of the points in each dataframe."
   ]
  },
  {
   "cell_type": "code",
   "execution_count": 19,
   "metadata": {},
   "outputs": [
    {
     "data": {
      "text/plain": [
       "Text(0.5, 0, 'list index for list of bboxes')"
      ]
     },
     "execution_count": 19,
     "metadata": {},
     "output_type": "execute_result"
    },
    {
     "data": {
      "image/png": "[encoded data removed]",
      "text/plain": [
       "<Figure size 432x288 with 1 Axes>"
      ]
     },
     "metadata": {
      "needs_background": "light"
     },
     "output_type": "display_data"
    }
   ],
   "source": [
    "num_pts = [df.shape[0] for df in dfs]\n",
    "ct_data = [(ix, pt_ct) for (ix, pt_ct) in enumerate(num_pts) if pt_ct > 0]\n",
    "sorted_ct_data = sorted(ct_data, key = lambda x: x[1])\n",
    "bbox_ix = list(zip(*sorted_ct_data))[0]\n",
    "pt_ct = list(zip(*sorted_ct_data))[1]\n",
    "x_pos = np.arange(len(bbox_ix))\n",
    "\n",
    "plt.bar(x_pos, pt_ct, align='center')\n",
    "plt.xticks(x_pos, bbox_ix)\n",
    "plt.yscale('log')\n",
    "plt.ylabel('Pt count in bbox')\n",
    "plt.xlabel('list index for list of bboxes')"
   ]
  },
  {
   "cell_type": "markdown",
   "metadata": {},
   "source": [
    "Next, calculate the masks to bin all the points in their respective dataframes. This function uses the point in polygon function to calculate which points belong in a list of polygons. This is a fast calculation returning batch intersections for multiple polygons."
   ]
  },
  {
   "cell_type": "code",
   "execution_count": 20,
   "metadata": {},
   "outputs": [],
   "source": [
    "from shapely.geometry import box\n",
    "\n",
    "\n",
    "def calc_mask_for_bounding_boxes(df, list_bboxes): \n",
    "    poly_points_x = []\n",
    "    poly_points_y = []\n",
    "    # poly offsets is actually how we tell the data frame we want to structure\n",
    "    # the returned dataframe object\n",
    "    poly_offsets = []\n",
    "    ring_offsets = []\n",
    "    # iterate through each bounding box min/max\n",
    "    for ix, bb in enumerate(list_bboxes):\n",
    "        # create the shapely polygon for each\n",
    "        # box accepts coords in xmin, ymin, xmax, ymax\n",
    "        tmp_ring = box(bb[0], bb[2], bb[1], bb[3])\n",
    "        # get ring exterior coords\n",
    "        ring_x = list(tmp_ring.exterior.coords.xy[0])\n",
    "        ring_y = list(tmp_ring.exterior.coords.xy[1])\n",
    "        poly_points_x.extend(ring_x[:-1])\n",
    "        poly_points_y.extend(ring_y[:-1])\n",
    "        poly_offsets.append(ix)\n",
    "        ring_offsets.append(ix * 4)\n",
    "    \n",
    "    return cuspatial.point_in_polygon(df['x'],df['y'], cudf.Series(poly_offsets), ring_offsets, poly_points_x, poly_points_y)"
   ]
  },
  {
   "cell_type": "markdown",
   "metadata": {},
   "source": [
    "Remember, for plotting above we computed count data and a list of sorted indices for bounding boxes containing points."
   ]
  },
  {
   "cell_type": "code",
   "execution_count": 21,
   "metadata": {},
   "outputs": [],
   "source": [
    "filtered_bboxes = [bboxes[ix] for ix in bbox_ix]"
   ]
  },
  {
   "cell_type": "code",
   "execution_count": 22,
   "metadata": {},
   "outputs": [],
   "source": [
    "msk = calc_mask_for_bounding_boxes(df, filtered_bboxes)"
   ]
  },
  {
   "cell_type": "code",
   "execution_count": 23,
   "metadata": {},
   "outputs": [],
   "source": [
    "dfs_containing_points = [df[msk[ix]] for ix in x_pos]"
   ]
  },
  {
   "cell_type": "code",
   "execution_count": 24,
   "metadata": {},
   "outputs": [
    {
     "data": {
      "text/html": [
       "<div>\n",
       "<style scoped>\n",
       "    .dataframe tbody tr th:only-of-type {\n",
       "        vertical-align: middle;\n",
       "    }\n",
       "\n",
       "    .dataframe tbody tr th {\n",
       "        vertical-align: top;\n",
       "    }\n",
       "\n",
       "    .dataframe thead th {\n",
       "        text-align: right;\n",
       "    }\n",
       "</style>\n",
       "<table border=\"1\" class=\"dataframe\">\n",
       "  <thead>\n",
       "    <tr style=\"text-align: right;\">\n",
       "      <th></th>\n",
       "      <th>x</th>\n",
       "      <th>y</th>\n",
       "      <th>z</th>\n",
       "      <th>intensity</th>\n",
       "      <th>r</th>\n",
       "      <th>g</th>\n",
       "      <th>b</th>\n",
       "    </tr>\n",
       "  </thead>\n",
       "  <tbody>\n",
       "    <tr>\n",
       "      <th>374090</th>\n",
       "      <td>-29.77</td>\n",
       "      <td>64.34</td>\n",
       "      <td>25.681</td>\n",
       "      <td>-1727</td>\n",
       "      <td>104</td>\n",
       "      <td>119</td>\n",
       "      <td>142</td>\n",
       "    </tr>\n",
       "  </tbody>\n",
       "</table>\n",
       "</div>"
      ],
      "text/plain": [
       "            x      y       z  intensity    r    g    b\n",
       "374090 -29.77  64.34  25.681      -1727  104  119  142"
      ]
     },
     "execution_count": 24,
     "metadata": {},
     "output_type": "execute_result"
    }
   ],
   "source": [
    "dfs_containing_points[0] # grid containing only 1 point"
   ]
  },
  {
   "cell_type": "code",
   "execution_count": 25,
   "metadata": {},
   "outputs": [
    {
     "data": {
      "text/html": [
       "<div>\n",
       "<style scoped>\n",
       "    .dataframe tbody tr th:only-of-type {\n",
       "        vertical-align: middle;\n",
       "    }\n",
       "\n",
       "    .dataframe tbody tr th {\n",
       "        vertical-align: top;\n",
       "    }\n",
       "\n",
       "    .dataframe thead th {\n",
       "        text-align: right;\n",
       "    }\n",
       "</style>\n",
       "<table border=\"1\" class=\"dataframe\">\n",
       "  <thead>\n",
       "    <tr style=\"text-align: right;\">\n",
       "      <th></th>\n",
       "      <th>x</th>\n",
       "      <th>y</th>\n",
       "      <th>z</th>\n",
       "      <th>intensity</th>\n",
       "      <th>r</th>\n",
       "      <th>g</th>\n",
       "      <th>b</th>\n",
       "    </tr>\n",
       "  </thead>\n",
       "  <tbody>\n",
       "    <tr>\n",
       "      <th>285402</th>\n",
       "      <td>-0.997</td>\n",
       "      <td>-1.126</td>\n",
       "      <td>-0.162</td>\n",
       "      <td>-1408</td>\n",
       "      <td>77</td>\n",
       "      <td>73</td>\n",
       "      <td>70</td>\n",
       "    </tr>\n",
       "    <tr>\n",
       "      <th>285403</th>\n",
       "      <td>-5.282</td>\n",
       "      <td>-5.960</td>\n",
       "      <td>-0.872</td>\n",
       "      <td>-1121</td>\n",
       "      <td>81</td>\n",
       "      <td>72</td>\n",
       "      <td>63</td>\n",
       "    </tr>\n",
       "    <tr>\n",
       "      <th>285404</th>\n",
       "      <td>-5.314</td>\n",
       "      <td>-6.023</td>\n",
       "      <td>-0.975</td>\n",
       "      <td>-576</td>\n",
       "      <td>174</td>\n",
       "      <td>183</td>\n",
       "      <td>198</td>\n",
       "    </tr>\n",
       "    <tr>\n",
       "      <th>285405</th>\n",
       "      <td>-5.313</td>\n",
       "      <td>-6.023</td>\n",
       "      <td>-1.101</td>\n",
       "      <td>-674</td>\n",
       "      <td>110</td>\n",
       "      <td>123</td>\n",
       "      <td>142</td>\n",
       "    </tr>\n",
       "    <tr>\n",
       "      <th>285406</th>\n",
       "      <td>-5.317</td>\n",
       "      <td>-6.029</td>\n",
       "      <td>-1.100</td>\n",
       "      <td>-637</td>\n",
       "      <td>109</td>\n",
       "      <td>111</td>\n",
       "      <td>123</td>\n",
       "    </tr>\n",
       "    <tr>\n",
       "      <th>...</th>\n",
       "      <td>...</td>\n",
       "      <td>...</td>\n",
       "      <td>...</td>\n",
       "      <td>...</td>\n",
       "      <td>...</td>\n",
       "      <td>...</td>\n",
       "      <td>...</td>\n",
       "    </tr>\n",
       "    <tr>\n",
       "      <th>23877506</th>\n",
       "      <td>-23.709</td>\n",
       "      <td>-5.427</td>\n",
       "      <td>16.383</td>\n",
       "      <td>-1457</td>\n",
       "      <td>240</td>\n",
       "      <td>238</td>\n",
       "      <td>241</td>\n",
       "    </tr>\n",
       "    <tr>\n",
       "      <th>23877507</th>\n",
       "      <td>-23.710</td>\n",
       "      <td>-5.415</td>\n",
       "      <td>16.399</td>\n",
       "      <td>-1530</td>\n",
       "      <td>239</td>\n",
       "      <td>237</td>\n",
       "      <td>238</td>\n",
       "    </tr>\n",
       "    <tr>\n",
       "      <th>23877508</th>\n",
       "      <td>-23.473</td>\n",
       "      <td>-5.497</td>\n",
       "      <td>16.124</td>\n",
       "      <td>-1080</td>\n",
       "      <td>217</td>\n",
       "      <td>227</td>\n",
       "      <td>255</td>\n",
       "    </tr>\n",
       "    <tr>\n",
       "      <th>23877509</th>\n",
       "      <td>-23.463</td>\n",
       "      <td>-5.494</td>\n",
       "      <td>16.134</td>\n",
       "      <td>-1299</td>\n",
       "      <td>238</td>\n",
       "      <td>244</td>\n",
       "      <td>244</td>\n",
       "    </tr>\n",
       "    <tr>\n",
       "      <th>23877510</th>\n",
       "      <td>-23.458</td>\n",
       "      <td>-5.493</td>\n",
       "      <td>16.148</td>\n",
       "      <td>-1470</td>\n",
       "      <td>242</td>\n",
       "      <td>242</td>\n",
       "      <td>240</td>\n",
       "    </tr>\n",
       "  </tbody>\n",
       "</table>\n",
       "<p>9204286 rows × 7 columns</p>\n",
       "</div>"
      ],
      "text/plain": [
       "               x      y       z  intensity    r    g    b\n",
       "285402    -0.997 -1.126  -0.162      -1408   77   73   70\n",
       "285403    -5.282 -5.960  -0.872      -1121   81   72   63\n",
       "285404    -5.314 -6.023  -0.975       -576  174  183  198\n",
       "285405    -5.313 -6.023  -1.101       -674  110  123  142\n",
       "285406    -5.317 -6.029  -1.100       -637  109  111  123\n",
       "...          ...    ...     ...        ...  ...  ...  ...\n",
       "23877506 -23.709 -5.427  16.383      -1457  240  238  241\n",
       "23877507 -23.710 -5.415  16.399      -1530  239  237  238\n",
       "23877508 -23.473 -5.497  16.124      -1080  217  227  255\n",
       "23877509 -23.463 -5.494  16.134      -1299  238  244  244\n",
       "23877510 -23.458 -5.493  16.148      -1470  242  242  240\n",
       "\n",
       "[9204286 rows x 7 columns]"
      ]
     },
     "execution_count": 25,
     "metadata": {},
     "output_type": "execute_result"
    }
   ],
   "source": [
    "dfs_containing_points[-1] # grid containing many points"
   ]
  },
  {
   "cell_type": "code",
   "execution_count": 26,
   "metadata": {},
   "outputs": [
    {
     "data": {
      "text/plain": [
       "True"
      ]
     },
     "execution_count": 26,
     "metadata": {},
     "output_type": "execute_result"
    }
   ],
   "source": [
    "# quick check to make sure the filtered dataframes containing points have the same size as the original dataframes\n",
    "sum([df.shape[0] for df in dfs_containing_points]) == df.shape[0]"
   ]
  },
  {
   "cell_type": "markdown",
   "metadata": {},
   "source": [
    "The following is a way to quickly combine the data in each of the dfs containing points. The concat function provided in the dataframes api works the same as it does with pandas. It is unnecesary in this use case as the original df has all of the points and creating a new one will exhaust the memory of my gpu."
   ]
  },
  {
   "cell_type": "code",
   "execution_count": 27,
   "metadata": {},
   "outputs": [
    {
     "ename": "MemoryError",
     "evalue": "std::bad_alloc: CUDA error at: ../include/rmm/mr/device/cuda_memory_resource.hpp:68: cudaErrorMemoryAllocation out of memory",
     "output_type": "error",
     "traceback": [
      "\u001b[0;31m---------------------------------------------------------------------------\u001b[0m",
      "\u001b[0;31mMemoryError\u001b[0m                               Traceback (most recent call last)",
      "\u001b[0;32m<ipython-input-27-fc413dad90c9>\u001b[0m in \u001b[0;36m<module>\u001b[0;34m()\u001b[0m\n\u001b[0;32m----> 1\u001b[0;31m \u001b[0mnew_df\u001b[0m \u001b[0;34m=\u001b[0m \u001b[0mcudf\u001b[0m\u001b[0;34m.\u001b[0m\u001b[0mconcat\u001b[0m\u001b[0;34m(\u001b[0m\u001b[0mdfs_containing_points\u001b[0m\u001b[0;34m)\u001b[0m\u001b[0;34m\u001b[0m\u001b[0;34m\u001b[0m\u001b[0m\n\u001b[0m",
      "\u001b[0;32m/opt/conda/lib/python3.7/site-packages/cudf/core/reshape.py\u001b[0m in \u001b[0;36mconcat\u001b[0;34m(objs, axis, ignore_index, sort)\u001b[0m\n\u001b[1;32m    286\u001b[0m         \u001b[0;32melse\u001b[0m\u001b[0;34m:\u001b[0m\u001b[0;34m\u001b[0m\u001b[0;34m\u001b[0m\u001b[0m\n\u001b[1;32m    287\u001b[0m             return DataFrame._concat(\n\u001b[0;32m--> 288\u001b[0;31m                 \u001b[0mobjs\u001b[0m\u001b[0;34m,\u001b[0m \u001b[0maxis\u001b[0m\u001b[0;34m=\u001b[0m\u001b[0maxis\u001b[0m\u001b[0;34m,\u001b[0m \u001b[0mignore_index\u001b[0m\u001b[0;34m=\u001b[0m\u001b[0mignore_index\u001b[0m\u001b[0;34m,\u001b[0m \u001b[0msort\u001b[0m\u001b[0;34m=\u001b[0m\u001b[0msort\u001b[0m\u001b[0;34m\u001b[0m\u001b[0;34m\u001b[0m\u001b[0m\n\u001b[0m\u001b[1;32m    289\u001b[0m             )\n\u001b[1;32m    290\u001b[0m     \u001b[0;32melif\u001b[0m \u001b[0mtyp\u001b[0m \u001b[0;32mis\u001b[0m \u001b[0mSeries\u001b[0m\u001b[0;34m:\u001b[0m\u001b[0;34m\u001b[0m\u001b[0;34m\u001b[0m\u001b[0m\n",
      "\u001b[0;32m/opt/conda/lib/python3.7/contextlib.py\u001b[0m in \u001b[0;36minner\u001b[0;34m(*args, **kwds)\u001b[0m\n\u001b[1;32m     72\u001b[0m         \u001b[0;32mdef\u001b[0m \u001b[0minner\u001b[0m\u001b[0;34m(\u001b[0m\u001b[0;34m*\u001b[0m\u001b[0margs\u001b[0m\u001b[0;34m,\u001b[0m \u001b[0;34m**\u001b[0m\u001b[0mkwds\u001b[0m\u001b[0;34m)\u001b[0m\u001b[0;34m:\u001b[0m\u001b[0;34m\u001b[0m\u001b[0;34m\u001b[0m\u001b[0m\n\u001b[1;32m     73\u001b[0m             \u001b[0;32mwith\u001b[0m \u001b[0mself\u001b[0m\u001b[0;34m.\u001b[0m\u001b[0m_recreate_cm\u001b[0m\u001b[0;34m(\u001b[0m\u001b[0;34m)\u001b[0m\u001b[0;34m:\u001b[0m\u001b[0;34m\u001b[0m\u001b[0;34m\u001b[0m\u001b[0m\n\u001b[0;32m---> 74\u001b[0;31m                 \u001b[0;32mreturn\u001b[0m \u001b[0mfunc\u001b[0m\u001b[0;34m(\u001b[0m\u001b[0;34m*\u001b[0m\u001b[0margs\u001b[0m\u001b[0;34m,\u001b[0m \u001b[0;34m**\u001b[0m\u001b[0mkwds\u001b[0m\u001b[0;34m)\u001b[0m\u001b[0;34m\u001b[0m\u001b[0;34m\u001b[0m\u001b[0m\n\u001b[0m\u001b[1;32m     75\u001b[0m         \u001b[0;32mreturn\u001b[0m \u001b[0minner\u001b[0m\u001b[0;34m\u001b[0m\u001b[0;34m\u001b[0m\u001b[0m\n\u001b[1;32m     76\u001b[0m \u001b[0;34m\u001b[0m\u001b[0m\n",
      "\u001b[0;32m/opt/conda/lib/python3.7/site-packages/cudf/core/frame.py\u001b[0m in \u001b[0;36m_concat\u001b[0;34m(cls, objs, axis, ignore_index, sort)\u001b[0m\n\u001b[1;32m    417\u001b[0m         \u001b[0;31m# Concatenate the Tables\u001b[0m\u001b[0;34m\u001b[0m\u001b[0;34m\u001b[0m\u001b[0;34m\u001b[0m\u001b[0m\n\u001b[1;32m    418\u001b[0m         out = cls._from_table(\n\u001b[0;32m--> 419\u001b[0;31m             \u001b[0mlibcudf\u001b[0m\u001b[0;34m.\u001b[0m\u001b[0mconcat\u001b[0m\u001b[0;34m.\u001b[0m\u001b[0mconcat_tables\u001b[0m\u001b[0;34m(\u001b[0m\u001b[0mtables\u001b[0m\u001b[0;34m,\u001b[0m \u001b[0mignore_index\u001b[0m\u001b[0;34m=\u001b[0m\u001b[0mignore_index\u001b[0m\u001b[0;34m)\u001b[0m\u001b[0;34m\u001b[0m\u001b[0;34m\u001b[0m\u001b[0m\n\u001b[0m\u001b[1;32m    420\u001b[0m         )\n\u001b[1;32m    421\u001b[0m \u001b[0;34m\u001b[0m\u001b[0m\n",
      "\u001b[0;32mcudf/_lib/concat.pyx\u001b[0m in \u001b[0;36mcudf._lib.concat.concat_tables\u001b[0;34m()\u001b[0m\n",
      "\u001b[0;32mcudf/_lib/concat.pyx\u001b[0m in \u001b[0;36mcudf._lib.concat.concat_tables\u001b[0;34m()\u001b[0m\n",
      "\u001b[0;31mMemoryError\u001b[0m: std::bad_alloc: CUDA error at: ../include/rmm/mr/device/cuda_memory_resource.hpp:68: cudaErrorMemoryAllocation out of memory"
     ]
    }
   ],
   "source": [
    "# new_df = cudf.concat(dfs_containing_points)"
   ]
  },
  {
   "cell_type": "markdown",
   "metadata": {},
   "source": [
    "## Section 5 - Spatial Manipulation\n",
    "<br>\n",
    "Quickly create an index using the quadtree on points indexing function provided by the cuspatial api. This will allow us to join a single or multiple polygon/s to search a large number of points very efficiently for intersection."
   ]
  },
  {
   "cell_type": "code",
   "execution_count": 28,
   "metadata": {},
   "outputs": [],
   "source": [
    "max_depth = 3\n",
    "min_size = 5\n",
    "scale = max(w, h) // (1 << max_depth)\n",
    "key_to_pt, quadtree = cuspatial.quadtree_on_points(df['x'], df['y'], min_x, max_x, min_y, max_y, scale=scale, max_depth=max_depth, min_size=min_size)"
   ]
  },
  {
   "cell_type": "code",
   "execution_count": 29,
   "metadata": {},
   "outputs": [
    {
     "name": "stdout",
     "output_type": "stream",
     "text": [
      "0             374093\n",
      "1             374094\n",
      "2             374095\n",
      "3             374096\n",
      "4             374097\n",
      "              ...   \n",
      "29697586    19634578\n",
      "29697587    19634579\n",
      "29697588    19634580\n",
      "29697589    19634581\n",
      "29697590    27750701\n",
      "Length: 29697591, dtype: uint32\n"
     ]
    }
   ],
   "source": [
    "print(key_to_pt)"
   ]
  },
  {
   "cell_type": "code",
   "execution_count": 30,
   "metadata": {},
   "outputs": [
    {
     "name": "stdout",
     "output_type": "stream",
     "text": [
      "    key  level  is_quad  length    offset\n",
      "0     0      0     True       4         5\n",
      "1     1      0     True       4         9\n",
      "2     2      0     True       4        13\n",
      "3     3      0     True       3        17\n",
      "4     9      0     True       1        20\n",
      "..  ...    ...      ...     ...       ...\n",
      "59   56      2    False   40934  29640278\n",
      "60   57      2    False   14705  29681212\n",
      "61   58      2    False     490  29695917\n",
      "62   59      2    False     882  29696407\n",
      "63  145      2    False      17  29697289\n",
      "\n",
      "[64 rows x 5 columns]\n"
     ]
    }
   ],
   "source": [
    "print(quadtree)"
   ]
  },
  {
   "cell_type": "markdown",
   "metadata": {},
   "source": [
    "<br>"
   ]
  },
  {
   "cell_type": "markdown",
   "metadata": {},
   "source": [
    "To test, create a bounding box of a given area of interest.  "
   ]
  },
  {
   "cell_type": "code",
   "execution_count": 32,
   "metadata": {},
   "outputs": [
    {
     "data": {
      "image/svg+xml": [
       "<svg xmlns=\"http://www.w3.org/2000/svg\" xmlns:xlink=\"http://www.w3.org/1999/xlink\" width=\"100.0\" height=\"162.0\" viewBox=\"-81.0 -106.0 62.0 162.0\" preserveAspectRatio=\"xMinYMin meet\"><g transform=\"matrix(1,0,0,-1,0,-50.0)\"><path fill-rule=\"evenodd\" fill=\"#66cc99\" stroke=\"#555555\" stroke-width=\"2.0\" opacity=\"0.6\" d=\"M -25.0,-100.0 L -25.0,50.0 L -75.0,50.0 L -75.0,-100.0 L -25.0,-100.0 z\" /></g></svg>"
      ],
      "text/plain": [
       "<shapely.geometry.polygon.Polygon at 0x7f8478dc89d0>"
      ]
     },
     "execution_count": 32,
     "metadata": {},
     "output_type": "execute_result"
    }
   ],
   "source": [
    "###     box(xmin,    ymin,    xmax,    ymax)\n",
    "test = filtered_bboxes[-1]\n",
    "# aoi = box(test[0], test[2], test[1], test[3]); aoi\n",
    "aoi = box(-75, -100, -25, 50); aoi"
   ]
  },
  {
   "cell_type": "code",
   "execution_count": 33,
   "metadata": {},
   "outputs": [
    {
     "data": {
      "text/html": [
       "<div>\n",
       "<style scoped>\n",
       "    .dataframe tbody tr th:only-of-type {\n",
       "        vertical-align: middle;\n",
       "    }\n",
       "\n",
       "    .dataframe tbody tr th {\n",
       "        vertical-align: top;\n",
       "    }\n",
       "\n",
       "    .dataframe thead th {\n",
       "        text-align: right;\n",
       "    }\n",
       "</style>\n",
       "<table border=\"1\" class=\"dataframe\">\n",
       "  <thead>\n",
       "    <tr style=\"text-align: right;\">\n",
       "      <th></th>\n",
       "      <th>x_min</th>\n",
       "      <th>y_min</th>\n",
       "      <th>x_max</th>\n",
       "      <th>y_max</th>\n",
       "    </tr>\n",
       "  </thead>\n",
       "  <tbody>\n",
       "    <tr>\n",
       "      <th>0</th>\n",
       "      <td>-75.0</td>\n",
       "      <td>-100.0</td>\n",
       "      <td>-25.0</td>\n",
       "      <td>50.0</td>\n",
       "    </tr>\n",
       "  </tbody>\n",
       "</table>\n",
       "</div>"
      ],
      "text/plain": [
       "   x_min  y_min  x_max  y_max\n",
       "0  -75.0 -100.0  -25.0   50.0"
      ]
     },
     "execution_count": 33,
     "metadata": {},
     "output_type": "execute_result"
    }
   ],
   "source": [
    "ring_x = list(aoi.exterior.coords.xy[0])\n",
    "ring_y = list(aoi.exterior.coords.xy[1])\n",
    "# probably could make our own df for this easy example but we will use the built ins\n",
    "poly_bounding_boxes = cuspatial.polygon_bounding_boxes([0], [0], ring_x[:-1], ring_y[:-1])\n",
    "poly_bounding_boxes"
   ]
  },
  {
   "cell_type": "code",
   "execution_count": 34,
   "metadata": {},
   "outputs": [
    {
     "data": {
      "text/html": [
       "<div>\n",
       "<style scoped>\n",
       "    .dataframe tbody tr th:only-of-type {\n",
       "        vertical-align: middle;\n",
       "    }\n",
       "\n",
       "    .dataframe tbody tr th {\n",
       "        vertical-align: top;\n",
       "    }\n",
       "\n",
       "    .dataframe thead th {\n",
       "        text-align: right;\n",
       "    }\n",
       "</style>\n",
       "<table border=\"1\" class=\"dataframe\">\n",
       "  <thead>\n",
       "    <tr style=\"text-align: right;\">\n",
       "      <th></th>\n",
       "      <th>poly_offset</th>\n",
       "      <th>quad_offset</th>\n",
       "    </tr>\n",
       "  </thead>\n",
       "  <tbody>\n",
       "    <tr>\n",
       "      <th>0</th>\n",
       "      <td>0</td>\n",
       "      <td>15</td>\n",
       "    </tr>\n",
       "    <tr>\n",
       "      <th>1</th>\n",
       "      <td>0</td>\n",
       "      <td>24</td>\n",
       "    </tr>\n",
       "    <tr>\n",
       "      <th>2</th>\n",
       "      <td>0</td>\n",
       "      <td>26</td>\n",
       "    </tr>\n",
       "    <tr>\n",
       "      <th>3</th>\n",
       "      <td>0</td>\n",
       "      <td>27</td>\n",
       "    </tr>\n",
       "    <tr>\n",
       "      <th>4</th>\n",
       "      <td>0</td>\n",
       "      <td>29</td>\n",
       "    </tr>\n",
       "    <tr>\n",
       "      <th>5</th>\n",
       "      <td>0</td>\n",
       "      <td>43</td>\n",
       "    </tr>\n",
       "    <tr>\n",
       "      <th>6</th>\n",
       "      <td>0</td>\n",
       "      <td>44</td>\n",
       "    </tr>\n",
       "    <tr>\n",
       "      <th>7</th>\n",
       "      <td>0</td>\n",
       "      <td>45</td>\n",
       "    </tr>\n",
       "    <tr>\n",
       "      <th>8</th>\n",
       "      <td>0</td>\n",
       "      <td>46</td>\n",
       "    </tr>\n",
       "    <tr>\n",
       "      <th>9</th>\n",
       "      <td>0</td>\n",
       "      <td>47</td>\n",
       "    </tr>\n",
       "    <tr>\n",
       "      <th>10</th>\n",
       "      <td>0</td>\n",
       "      <td>49</td>\n",
       "    </tr>\n",
       "    <tr>\n",
       "      <th>11</th>\n",
       "      <td>0</td>\n",
       "      <td>51</td>\n",
       "    </tr>\n",
       "  </tbody>\n",
       "</table>\n",
       "</div>"
      ],
      "text/plain": [
       "    poly_offset  quad_offset\n",
       "0             0           15\n",
       "1             0           24\n",
       "2             0           26\n",
       "3             0           27\n",
       "4             0           29\n",
       "5             0           43\n",
       "6             0           44\n",
       "7             0           45\n",
       "8             0           46\n",
       "9             0           47\n",
       "10            0           49\n",
       "11            0           51"
      ]
     },
     "execution_count": 34,
     "metadata": {},
     "output_type": "execute_result"
    }
   ],
   "source": [
    "poly_quad_pairs = cuspatial.join_quadtree_and_bounding_boxes(quadtree, poly_bounding_boxes, min_x, max_x, min_y, max_y, scale=scale, max_depth=max_depth)\n",
    "poly_quad_pairs"
   ]
  },
  {
   "cell_type": "code",
   "execution_count": 35,
   "metadata": {},
   "outputs": [
    {
     "data": {
      "text/html": [
       "<div>\n",
       "<style scoped>\n",
       "    .dataframe tbody tr th:only-of-type {\n",
       "        vertical-align: middle;\n",
       "    }\n",
       "\n",
       "    .dataframe tbody tr th {\n",
       "        vertical-align: top;\n",
       "    }\n",
       "\n",
       "    .dataframe thead th {\n",
       "        text-align: right;\n",
       "    }\n",
       "</style>\n",
       "<table border=\"1\" class=\"dataframe\">\n",
       "  <thead>\n",
       "    <tr style=\"text-align: right;\">\n",
       "      <th></th>\n",
       "      <th>point_index</th>\n",
       "      <th>polygon_index</th>\n",
       "    </tr>\n",
       "  </thead>\n",
       "  <tbody>\n",
       "    <tr>\n",
       "      <th>0</th>\n",
       "      <td>0</td>\n",
       "      <td>4</td>\n",
       "    </tr>\n",
       "    <tr>\n",
       "      <th>1</th>\n",
       "      <td>0</td>\n",
       "      <td>5</td>\n",
       "    </tr>\n",
       "    <tr>\n",
       "      <th>2</th>\n",
       "      <td>0</td>\n",
       "      <td>6</td>\n",
       "    </tr>\n",
       "    <tr>\n",
       "      <th>3</th>\n",
       "      <td>0</td>\n",
       "      <td>7</td>\n",
       "    </tr>\n",
       "    <tr>\n",
       "      <th>4</th>\n",
       "      <td>0</td>\n",
       "      <td>8</td>\n",
       "    </tr>\n",
       "    <tr>\n",
       "      <th>...</th>\n",
       "      <td>...</td>\n",
       "      <td>...</td>\n",
       "    </tr>\n",
       "    <tr>\n",
       "      <th>444912</th>\n",
       "      <td>0</td>\n",
       "      <td>25851470</td>\n",
       "    </tr>\n",
       "    <tr>\n",
       "      <th>444913</th>\n",
       "      <td>0</td>\n",
       "      <td>25851724</td>\n",
       "    </tr>\n",
       "    <tr>\n",
       "      <th>444914</th>\n",
       "      <td>0</td>\n",
       "      <td>25851725</td>\n",
       "    </tr>\n",
       "    <tr>\n",
       "      <th>444915</th>\n",
       "      <td>0</td>\n",
       "      <td>25851726</td>\n",
       "    </tr>\n",
       "    <tr>\n",
       "      <th>444916</th>\n",
       "      <td>0</td>\n",
       "      <td>25851727</td>\n",
       "    </tr>\n",
       "  </tbody>\n",
       "</table>\n",
       "<p>444917 rows × 2 columns</p>\n",
       "</div>"
      ],
      "text/plain": [
       "        point_index  polygon_index\n",
       "0                 0              4\n",
       "1                 0              5\n",
       "2                 0              6\n",
       "3                 0              7\n",
       "4                 0              8\n",
       "...             ...            ...\n",
       "444912            0       25851470\n",
       "444913            0       25851724\n",
       "444914            0       25851725\n",
       "444915            0       25851726\n",
       "444916            0       25851727\n",
       "\n",
       "[444917 rows x 2 columns]"
      ]
     },
     "execution_count": 35,
     "metadata": {},
     "output_type": "execute_result"
    }
   ],
   "source": [
    "spatial_join_rslt = cuspatial.quadtree_point_in_polygon(poly_quad_pairs, quadtree, key_to_pt, df['x'], df['y'], [0], [0], ring_x[:-1], ring_y[:-1])\n",
    "spatial_join_rslt"
   ]
  },
  {
   "cell_type": "code",
   "execution_count": 36,
   "metadata": {},
   "outputs": [
    {
     "data": {
      "text/html": [
       "<div>\n",
       "<style scoped>\n",
       "    .dataframe tbody tr th:only-of-type {\n",
       "        vertical-align: middle;\n",
       "    }\n",
       "\n",
       "    .dataframe tbody tr th {\n",
       "        vertical-align: top;\n",
       "    }\n",
       "\n",
       "    .dataframe thead th {\n",
       "        text-align: right;\n",
       "    }\n",
       "</style>\n",
       "<table border=\"1\" class=\"dataframe\">\n",
       "  <thead>\n",
       "    <tr style=\"text-align: right;\">\n",
       "      <th></th>\n",
       "      <th>x</th>\n",
       "      <th>y</th>\n",
       "      <th>z</th>\n",
       "      <th>intensity</th>\n",
       "      <th>r</th>\n",
       "      <th>g</th>\n",
       "      <th>b</th>\n",
       "    </tr>\n",
       "  </thead>\n",
       "  <tbody>\n",
       "    <tr>\n",
       "      <th>374097</th>\n",
       "      <td>-66.479</td>\n",
       "      <td>-89.862</td>\n",
       "      <td>-2.465</td>\n",
       "      <td>-1388</td>\n",
       "      <td>121</td>\n",
       "      <td>129</td>\n",
       "      <td>142</td>\n",
       "    </tr>\n",
       "    <tr>\n",
       "      <th>374098</th>\n",
       "      <td>-67.638</td>\n",
       "      <td>-91.719</td>\n",
       "      <td>-2.672</td>\n",
       "      <td>-1406</td>\n",
       "      <td>223</td>\n",
       "      <td>221</td>\n",
       "      <td>234</td>\n",
       "    </tr>\n",
       "    <tr>\n",
       "      <th>374099</th>\n",
       "      <td>-67.590</td>\n",
       "      <td>-91.750</td>\n",
       "      <td>-2.571</td>\n",
       "      <td>-1432</td>\n",
       "      <td>216</td>\n",
       "      <td>213</td>\n",
       "      <td>220</td>\n",
       "    </tr>\n",
       "    <tr>\n",
       "      <th>374100</th>\n",
       "      <td>-67.638</td>\n",
       "      <td>-91.720</td>\n",
       "      <td>-2.615</td>\n",
       "      <td>-1416</td>\n",
       "      <td>149</td>\n",
       "      <td>162</td>\n",
       "      <td>170</td>\n",
       "    </tr>\n",
       "    <tr>\n",
       "      <th>374101</th>\n",
       "      <td>-67.277</td>\n",
       "      <td>-91.230</td>\n",
       "      <td>-2.543</td>\n",
       "      <td>-1414</td>\n",
       "      <td>181</td>\n",
       "      <td>181</td>\n",
       "      <td>191</td>\n",
       "    </tr>\n",
       "    <tr>\n",
       "      <th>...</th>\n",
       "      <td>...</td>\n",
       "      <td>...</td>\n",
       "      <td>...</td>\n",
       "      <td>...</td>\n",
       "      <td>...</td>\n",
       "      <td>...</td>\n",
       "      <td>...</td>\n",
       "    </tr>\n",
       "    <tr>\n",
       "      <th>14197517</th>\n",
       "      <td>-25.154</td>\n",
       "      <td>17.878</td>\n",
       "      <td>-2.812</td>\n",
       "      <td>-1653</td>\n",
       "      <td>136</td>\n",
       "      <td>153</td>\n",
       "      <td>181</td>\n",
       "    </tr>\n",
       "    <tr>\n",
       "      <th>14197771</th>\n",
       "      <td>-25.002</td>\n",
       "      <td>18.574</td>\n",
       "      <td>-2.269</td>\n",
       "      <td>-1403</td>\n",
       "      <td>132</td>\n",
       "      <td>153</td>\n",
       "      <td>182</td>\n",
       "    </tr>\n",
       "    <tr>\n",
       "      <th>14197772</th>\n",
       "      <td>-25.010</td>\n",
       "      <td>18.639</td>\n",
       "      <td>-2.298</td>\n",
       "      <td>-1399</td>\n",
       "      <td>59</td>\n",
       "      <td>71</td>\n",
       "      <td>83</td>\n",
       "    </tr>\n",
       "    <tr>\n",
       "      <th>14197773</th>\n",
       "      <td>-25.051</td>\n",
       "      <td>18.630</td>\n",
       "      <td>-2.254</td>\n",
       "      <td>-1647</td>\n",
       "      <td>131</td>\n",
       "      <td>155</td>\n",
       "      <td>183</td>\n",
       "    </tr>\n",
       "    <tr>\n",
       "      <th>14197774</th>\n",
       "      <td>-25.002</td>\n",
       "      <td>18.633</td>\n",
       "      <td>-2.314</td>\n",
       "      <td>-1311</td>\n",
       "      <td>131</td>\n",
       "      <td>153</td>\n",
       "      <td>177</td>\n",
       "    </tr>\n",
       "  </tbody>\n",
       "</table>\n",
       "<p>444917 rows × 7 columns</p>\n",
       "</div>"
      ],
      "text/plain": [
       "               x       y      z  intensity    r    g    b\n",
       "374097   -66.479 -89.862 -2.465      -1388  121  129  142\n",
       "374098   -67.638 -91.719 -2.672      -1406  223  221  234\n",
       "374099   -67.590 -91.750 -2.571      -1432  216  213  220\n",
       "374100   -67.638 -91.720 -2.615      -1416  149  162  170\n",
       "374101   -67.277 -91.230 -2.543      -1414  181  181  191\n",
       "...          ...     ...    ...        ...  ...  ...  ...\n",
       "14197517 -25.154  17.878 -2.812      -1653  136  153  181\n",
       "14197771 -25.002  18.574 -2.269      -1403  132  153  182\n",
       "14197772 -25.010  18.639 -2.298      -1399   59   71   83\n",
       "14197773 -25.051  18.630 -2.254      -1647  131  155  183\n",
       "14197774 -25.002  18.633 -2.314      -1311  131  153  177\n",
       "\n",
       "[444917 rows x 7 columns]"
      ]
     },
     "execution_count": 36,
     "metadata": {},
     "output_type": "execute_result"
    }
   ],
   "source": [
    "rslt_df = df.iloc[key_to_pt.iloc[spatial_join_rslt.polygon_index].values]\n",
    "rslt_df"
   ]
  },
  {
   "cell_type": "code",
   "execution_count": 37,
   "metadata": {},
   "outputs": [
    {
     "data": {
      "image/png": "[encoded data removed]",
      "text/plain": [
       "<Figure size 432x288 with 1 Axes>"
      ]
     },
     "metadata": {
      "needs_background": "light"
     },
     "output_type": "display_data"
    }
   ],
   "source": [
    "# plot a queried points\n",
    "fig = plt.figure()\n",
    "ax = fig.add_subplot(111)\n",
    "\n",
    "plt.scatter(rslt_df['x'].to_array(), rslt_df['y'].to_array(), .2)\n",
    "ax.set_xlim(min_x - 0.2 * w, max_x + 0.2 * w)\n",
    "ax.set_ylim(min_y - 0.2 * h, max_y + 0.2 * h)\n",
    "\n",
    "rect = patches.Rectangle((aoi.bounds[0], aoi.bounds[1]), aoi.bounds[2] - aoi.bounds[0], aoi.bounds[3] - aoi.bounds[1],linewidth=1,edgecolor='r',facecolor='none')\n",
    "ax.add_patch(rect)\n",
    "ax.set_aspect(1)"
   ]
  },
  {
   "cell_type": "code",
   "execution_count": 38,
   "metadata": {},
   "outputs": [
    {
     "data": {
      "text/html": [
       "<div>\n",
       "<style scoped>\n",
       "    .dataframe tbody tr th:only-of-type {\n",
       "        vertical-align: middle;\n",
       "    }\n",
       "\n",
       "    .dataframe tbody tr th {\n",
       "        vertical-align: top;\n",
       "    }\n",
       "\n",
       "    .dataframe thead th {\n",
       "        text-align: right;\n",
       "    }\n",
       "</style>\n",
       "<table border=\"1\" class=\"dataframe\">\n",
       "  <thead>\n",
       "    <tr style=\"text-align: right;\">\n",
       "      <th></th>\n",
       "      <th>x</th>\n",
       "      <th>y</th>\n",
       "    </tr>\n",
       "  </thead>\n",
       "  <tbody>\n",
       "    <tr>\n",
       "      <th>0</th>\n",
       "      <td>-44.285</td>\n",
       "      <td>-5.357</td>\n",
       "    </tr>\n",
       "    <tr>\n",
       "      <th>1</th>\n",
       "      <td>-44.757</td>\n",
       "      <td>-4.710</td>\n",
       "    </tr>\n",
       "    <tr>\n",
       "      <th>2</th>\n",
       "      <td>-66.582</td>\n",
       "      <td>-89.815</td>\n",
       "    </tr>\n",
       "    <tr>\n",
       "      <th>3</th>\n",
       "      <td>-66.531</td>\n",
       "      <td>-89.839</td>\n",
       "    </tr>\n",
       "    <tr>\n",
       "      <th>4</th>\n",
       "      <td>-66.427</td>\n",
       "      <td>-89.889</td>\n",
       "    </tr>\n",
       "    <tr>\n",
       "      <th>...</th>\n",
       "      <td>...</td>\n",
       "      <td>...</td>\n",
       "    </tr>\n",
       "    <tr>\n",
       "      <th>445819</th>\n",
       "      <td>-27.690</td>\n",
       "      <td>0.752</td>\n",
       "    </tr>\n",
       "    <tr>\n",
       "      <th>445820</th>\n",
       "      <td>-27.874</td>\n",
       "      <td>0.757</td>\n",
       "    </tr>\n",
       "    <tr>\n",
       "      <th>445821</th>\n",
       "      <td>-27.883</td>\n",
       "      <td>0.772</td>\n",
       "    </tr>\n",
       "    <tr>\n",
       "      <th>445822</th>\n",
       "      <td>-27.875</td>\n",
       "      <td>0.757</td>\n",
       "    </tr>\n",
       "    <tr>\n",
       "      <th>445823</th>\n",
       "      <td>-27.954</td>\n",
       "      <td>2.025</td>\n",
       "    </tr>\n",
       "  </tbody>\n",
       "</table>\n",
       "<p>445824 rows × 2 columns</p>\n",
       "</div>"
      ],
      "text/plain": [
       "             x       y\n",
       "0      -44.285  -5.357\n",
       "1      -44.757  -4.710\n",
       "2      -66.582 -89.815\n",
       "3      -66.531 -89.839\n",
       "4      -66.427 -89.889\n",
       "...        ...     ...\n",
       "445819 -27.690   0.752\n",
       "445820 -27.874   0.757\n",
       "445821 -27.883   0.772\n",
       "445822 -27.875   0.757\n",
       "445823 -27.954   2.025\n",
       "\n",
       "[445824 rows x 2 columns]"
      ]
     },
     "execution_count": 38,
     "metadata": {},
     "output_type": "execute_result"
    }
   ],
   "source": [
    "check_pts = cuspatial.points_in_spatial_window(aoi.bounds[0], aoi.bounds[2], aoi.bounds[1], aoi.bounds[3], df['x'], df['y'])\n",
    "check_pts"
   ]
  },
  {
   "cell_type": "code",
   "execution_count": 39,
   "metadata": {},
   "outputs": [
    {
     "data": {
      "image/png": "[encoded data removed]",
      "text/plain": [
       "<Figure size 432x288 with 1 Axes>"
      ]
     },
     "metadata": {
      "needs_background": "light"
     },
     "output_type": "display_data"
    }
   ],
   "source": [
    "fig = plt.figure()\n",
    "ax = fig.add_subplot(111)\n",
    "\n",
    "plt.scatter(check_pts['x'].to_array(), check_pts['y'].to_array(), .2)\n",
    "ax.set_xlim(min_x - 0.2 * w, max_x + 0.2 * w)\n",
    "ax.set_ylim(min_y - 0.2 * h, max_y + 0.2 * h)\n",
    "\n",
    "rect = patches.Rectangle((aoi.bounds[0], aoi.bounds[1]), aoi.bounds[2] - aoi.bounds[0], aoi.bounds[3] - aoi.bounds[1],linewidth=1,edgecolor='r',facecolor='none')\n",
    "ax.add_patch(rect)\n",
    "ax.set_aspect(1)"
   ]
  },
  {
   "cell_type": "code",
   "execution_count": null,
   "metadata": {},
   "outputs": [],
   "source": []
  }
 ],
 "metadata": {
  "kernelspec": {
   "display_name": "Python 3",
   "language": "python",
   "name": "python3"
  },
  "language_info": {
   "codemirror_mode": {
    "name": "ipython",
    "version": 3
   },
   "file_extension": ".py",
   "mimetype": "text/x-python",
   "name": "python",
   "nbconvert_exporter": "python",
   "pygments_lexer": "ipython3",
   "version": "3.7.7"
  }
 },
 "nbformat": 4,
 "nbformat_minor": 4
}
